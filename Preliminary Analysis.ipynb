{
 "cells": [
  {
   "cell_type": "markdown",
   "metadata": {},
   "source": [
    "## Preliminary Analysis\n",
    "These statements were taken from 18 months' worth of my chequing and credit card statements and aggregated into one document. The banking statements had sensitive information such as account numbers, etc. and so during the aggregation step they have been pre-screened by me.\n",
    "\n",
    "Limitations of such an analysis include purchases from on general-purpose websites such as Amazon or other supermarkets, as well as paying back people via e-transfer. There could be multiple items purchased, as well as a variety of items offered by the marketplace, so the true nature of all purchases cannot be captured to be binned. \n",
    "Similarily, cash exchanges cannot be recorded and also skew both the amount of spending as well as groups of spending."
   ]
  },
  {
   "cell_type": "code",
   "execution_count": 1,
   "metadata": {},
   "outputs": [],
   "source": [
    "import pandas as pd\n",
    "import numpy as np\n",
    "import seaborn as sns\n",
    "import matplotlib.pyplot as plt\n",
    "pd.options.mode.chained_assignment = None\n",
    "\n",
    "\n"
   ]
  },
  {
   "cell_type": "markdown",
   "metadata": {},
   "source": [
    "#### Preliminary Analysis \n",
    "Censoring, dropping columns without a deposit value, since we are only interested in the spending habits. \n",
    "Then general cleanup, dropping duplicates, conversion into datetime, sorting by datetime, and resetting the index."
   ]
  },
  {
   "cell_type": "code",
   "execution_count": 10,
   "metadata": {},
   "outputs": [],
   "source": [
    "def censor():\n",
    "    data = pd.read_csv('CC&CA-Mar 2021-Sept 2021.csv')\n",
    "    data.columns = ['date', 'recipient', 'withdraw', 'deposit', 'balance']\n",
    " \n",
    "    dropped = data.drop_duplicates() # 282 rows now\n",
    "    dropped['recipient'].nunique() # 173 unique values\n",
    "\n",
    "    dropped['recipient'] = ['SAVINGS ACC' if x[0:6] == 'SSV TO' else x for x in dropped['recipient']]\n",
    "    dropped['recipient'] = ['FIDO' if x[0:4] == 'FIDO' else x for x in dropped['recipient']]\n",
    "    dropped['recipient'] = ['TD VISA' if x[0:7] == 'TD VISA' else x for x in dropped['recipient']]\n",
    "    dropped['recipient'] = ['E-TRANSFER' if x[0:10] == 'SEND E-TFR' else x for x in dropped['recipient']]\n",
    "    dropped['recipient'] = ['E-TRANSFER' if x[0:10] == 'E-TRANSFER' else x for x in dropped['recipient']]\n",
    "    dropped['recipient'] = ['STEAM' if x[0:6] == 'STEAMG' else x for x in dropped['recipient']]\n",
    "    dropped['recipient'] = ['MCGILL' if x[0:6] == 'MCGILL' else x for x in dropped['recipient']]\n",
    "    dropped['recipient'] = ['AMZN Mktp CA' if x[0:9] == 'AMZN Mktp' else x for x in dropped['recipient']]\n",
    "    dropped['recipient'] = ['AMZN Mktp CA' if x[0:9] == 'Amazon.ca' else x for x in dropped['recipient']]\n",
    "    dropped['recipient'] = ['AMZN Mktp CA' if x[0:9] == 'AMZ*Amazo' else x for x in dropped['recipient']]\n",
    "    dropped['recipient'] = ['FIZZ' if x[0:4] == 'FIZZ' else x for x in dropped['recipient']]\n",
    "    dropped['recipient'] = ['FREEDOM MOBILE' if x[0:14] == 'FREEDOM MOBILE' else x for x in dropped['recipient']]\n",
    "    dropped['recipient'] = ['UPS' if x[0:3] == 'UPS' else x for x in dropped['recipient']]\n",
    "    dropped['recipient'] = ['eBay' if x[0:4] == 'eBay' else x for x in dropped['recipient']]\n",
    "    dropped['recipient'] = ['WESTJET' if x[0:7] == 'WESTJET' else x for x in dropped['recipient']]\n",
    "    dropped['recipient'] = ['Lenovo' if x[0:6] == 'Lenovo' else x for x in dropped['recipient']]\n",
    "    dropped['recipient'] = ['TFR-TO C/C' if x[6:9] == 'TFR' else x for x in dropped['recipient']]\n",
    "\n",
    "    dropped.to_csv('CensoredBankStatements.csv', index=False)\n",
    "censor()"
   ]
  },
  {
   "cell_type": "code",
   "execution_count": 2,
   "metadata": {},
   "outputs": [
    {
     "data": {
      "text/plain": [
       "37000.909999999996"
      ]
     },
     "execution_count": 2,
     "metadata": {},
     "output_type": "execute_result"
    }
   ],
   "source": [
    "dropped = pd.read_csv('CensoredBankStatements.csv')\n",
    "\n",
    "withdraw = dropped[dropped['withdraw'].notna()]\n",
    "\n",
    "withdraw[\"date\"] = pd.to_datetime(withdraw[\"date\"])\n",
    "withdraw.sort_values(by='date', inplace=True)\n",
    "withdraw.reset_index(inplace=True, drop=True)\n",
    "withdraw.drop(['deposit'], axis=1, inplace=True)\n",
    "sum_calc = pd.to_numeric(withdraw['withdraw'], errors='coerce')\n",
    "sum_calc.sum()"
   ]
  },
  {
   "cell_type": "markdown",
   "metadata": {},
   "source": [
    "#### Binning \n",
    "Research and contextual analysis allowed me to synthesize my own categories for spending: \n",
    "- Food: Restaurants and groceries. \n",
    "- Investments: Any transfer to another account.\n",
    "- Productivity: Technology and other home office items. \n",
    "- Materieal Desires: General spending for material desires.\n",
    "- Necessities: Rent, utilities, phone and internet, and transportation.\n",
    "- Education: Tuition, books, textbooks, and supplementary materials for university classes. \n",
    "- Recreation: Video games, events, movies, and other forms of entertainment.\n",
    "- Health and Vanity: Prescribed drugs and treatments, supplements, clothing, and other vanity items."
   ]
  },
  {
   "cell_type": "code",
   "execution_count": 5,
   "metadata": {},
   "outputs": [
    {
     "data": {
      "text/html": [
       "<div>\n",
       "<style scoped>\n",
       "    .dataframe tbody tr th:only-of-type {\n",
       "        vertical-align: middle;\n",
       "    }\n",
       "\n",
       "    .dataframe tbody tr th {\n",
       "        vertical-align: top;\n",
       "    }\n",
       "\n",
       "    .dataframe thead th {\n",
       "        text-align: right;\n",
       "    }\n",
       "</style>\n",
       "<table border=\"1\" class=\"dataframe\">\n",
       "  <thead>\n",
       "    <tr style=\"text-align: right;\">\n",
       "      <th></th>\n",
       "      <th>date</th>\n",
       "      <th>recipient</th>\n",
       "      <th>withdraw</th>\n",
       "      <th>balance</th>\n",
       "      <th>category</th>\n",
       "    </tr>\n",
       "  </thead>\n",
       "  <tbody>\n",
       "  </tbody>\n",
       "</table>\n",
       "</div>"
      ],
      "text/plain": [
       "Empty DataFrame\n",
       "Columns: [date, recipient, withdraw, balance, category]\n",
       "Index: []"
      ]
     },
     "execution_count": 5,
     "metadata": {},
     "output_type": "execute_result"
    }
   ],
   "source": [
    "withdraw[\"category\"] = np.nan\n",
    "\n",
    "withdraw.drop(withdraw[withdraw['recipient'] == 'TD VISA'].index, inplace=True)\n",
    "# Manual Binning\n",
    "def bin():\n",
    "    withdraw.loc[withdraw['recipient'] == 'COCO TEA          _F', 'category'] = 'Food'\n",
    "    withdraw.loc[withdraw['recipient'] == 'SAVINGS ACC', 'category'] = 'Investments'\n",
    "    withdraw.loc[withdraw['recipient'] == 'STEAM', 'category'] = 'Recreation'\n",
    "    withdraw.loc[withdraw['recipient'] == 'ALBERTA EDUCATI   _V', 'category'] = 'Education'\n",
    "    withdraw.loc[withdraw['recipient'] == 'PAYPAL *RE  283.98_V', 'category'] = 'Health and Vanity'\n",
    "    withdraw.loc[withdraw['recipient'] == 'TFR-TO C/C', 'category'] = 'Investments'\n",
    "    withdraw.loc[withdraw['recipient'] == 'Lenovo', 'category'] = 'Productivity'\n",
    "    withdraw.loc[withdraw['recipient'] == 'MCGILL', 'category'] = 'Education'\n",
    "    withdraw.loc[withdraw['recipient'] == 'LONDON DRUGS 40   _F', 'category'] = 'Material Desires'\n",
    "    withdraw.loc[withdraw['recipient'] == 'FREEDOM MOBILE', 'category'] = 'Necessities'\n",
    "    withdraw.loc[withdraw['recipient'] == 'UPS', 'category'] = 'Material Desires'\n",
    "    withdraw.loc[withdraw['recipient'] == 'PAYPAL *FA    2.27_V', 'category'] = 'Material Desires'\n",
    "    withdraw.loc[withdraw['recipient'] == 'PP*HUMBLEB   14.24_V', 'category'] = 'Material Desires'\n",
    "    withdraw.loc[withdraw['recipient'] == 'PAYPAL *CH    7.76_V', 'category'] = 'Material Desires'\n",
    "    withdraw.loc[withdraw['recipient'] == 'PAYPAL *CHENZHONG', 'category'] = 'Material Desires'\n",
    "    withdraw.loc[withdraw['recipient'] == 'EXPLAIN EVERYTHING SALES,', 'category'] = 'Productivity'\n",
    "    withdraw.loc[withdraw['recipient'] == 'PAYPAL *ORION L   _V', 'category'] = 'Material Desires'\n",
    "    withdraw.loc[withdraw['recipient'] == 'EPC*EPIC GAMES STORE', 'category'] = 'Material Desires'\n",
    "    withdraw.loc[withdraw['recipient'] == 'E-TRANSFER', 'category'] = 'Material Desires'\n",
    "    withdraw.loc[withdraw['recipient'] == 'aliexpress', 'category'] = 'Material Desires'\n",
    "    withdraw.loc[withdraw['recipient'] == 'TRUEDAN 6219 CENTRE ST.', 'category'] = 'Food'\n",
    "    withdraw.loc[withdraw['recipient'] == 'Fanatical', 'category'] = 'Material Desires'\n",
    "    withdraw.loc[withdraw['recipient'] == 'CDN SHR INVEST   INV', 'category'] = 'Investments'\n",
    "    withdraw.loc[withdraw['recipient'] == 'H&M CA#109 - DEERFOOT', 'category'] = 'Health and Vanity'\n",
    "    withdraw.loc[withdraw['recipient'] == '6A SNACK BAR', 'category'] = 'Food'\n",
    "    withdraw.loc[withdraw['recipient'] == 'DOLLARAMA # 494', 'category'] = 'Material Desires'\n",
    "    withdraw.loc[withdraw['recipient'] == 'LONDON DRUGS 40', 'category'] = 'Health and Vanity'\n",
    "    withdraw.loc[withdraw['recipient'] == 'DAIRY QUEEN #27231', 'category'] = 'Food'\n",
    "    withdraw.loc[withdraw['recipient'] == 'PHO VAN VIETNAMESE NOODLE', 'category'] = 'Food'\n",
    "    withdraw.loc[withdraw['recipient'] == 'XINGFUTANG HARVEST HILLS', 'category'] = 'Food'\n",
    "    withdraw.loc[withdraw['recipient'] == 'KIM CHI HOUSE', 'category'] = 'Food'\n",
    "    withdraw.loc[withdraw['recipient'] == 'PARK ADMISSIONS', 'category'] = 'Recreation'\n",
    "    withdraw.loc[withdraw['recipient'] == 'eBay', 'category'] = 'Productivity'\n",
    "    withdraw.loc[withdraw['recipient'] == 'ROYAL TEA HOUSE', 'category'] = 'Food'\n",
    "    withdraw.loc[withdraw['recipient'] == 'DELL CANADA INC', 'category'] = 'Productivity'\n",
    "    withdraw.loc[withdraw['recipient'] == 'LONDON DRUGS POSTAL OUTLE', 'category'] = 'Productivity'\n",
    "    withdraw.loc[withdraw['recipient'] == 'BRIXTON NEIGHBOURHOOD PUB', 'category'] = 'Food'\n",
    "    withdraw.at[15, 'category'] = 'Productivity'\n",
    "    withdraw.at[47, 'category'] = 'Productivity'\n",
    "    withdraw.at[74, 'category'] = 'Productivity'\n",
    "    withdraw.at[75, 'category'] = 'Health and Vanity'\n",
    "    withdraw.at[77, 'category'] = 'Productivity'\n",
    "    withdraw.at[78, 'category'] = 'Material Desires'\n",
    "    withdraw.loc[withdraw['recipient'] == 'ETSY', 'category'] = 'Health and Vanity'\n",
    "    withdraw.loc[withdraw['recipient'] == 'NEWEGG CANADA INC', 'category'] = 'Productivity'\n",
    "    withdraw.at[83, 'category'] = 'Health and Vanity'\n",
    "    withdraw.loc[withdraw['recipient'] == 'T&T SUPERMARKET #014', 'category'] = 'Food'\n",
    "    withdraw.loc[withdraw['recipient'] == 'BOWLS KOREAN BBQ', 'category'] = 'Food'\n",
    "    withdraw.loc[withdraw['recipient'] == 'WESTJET', 'category'] = 'Productivity'\n",
    "    withdraw.at[88, 'category'] = 'Productivity'\n",
    "    withdraw.loc[withdraw['recipient'] == 'DOLLARAMA # 79', 'category'] = 'Productivity'\n",
    "    withdraw.loc[withdraw['recipient'] == 'IKEA MONTREAL       ', 'category'] = 'Productivity'\n",
    "    withdraw.loc[withdraw['recipient'] == 'SHUYI TEALICIOUS MCGILL', 'category'] = 'Food'\n",
    "    withdraw.loc[withdraw['recipient'] == 'CARTE OPUS ETUDIANTS E', 'category'] = 'Necessities'\n",
    "    withdraw.loc[withdraw['recipient'] == 'PP*HUMBLEBUNDL HUMBLEBUND', 'category'] = 'Recreation'\n",
    "    withdraw.loc[withdraw['recipient'] == 'FIZZ', 'category'] = 'Necessities'\n",
    "    withdraw.at[98, 'category'] = 'Productivity'\n",
    "    withdraw.at[99, 'category'] = 'Health and Vanity'\n",
    "    withdraw.loc[withdraw['recipient'] == 'FIDO', 'category'] = 'Necessities'\n",
    "    withdraw.loc[withdraw['recipient'] == 'WAL-MART SUPERCENTER#3094', 'category'] = 'Health and Vanity'\n",
    "    withdraw.loc[withdraw['recipient'] == 'JEAN COUTU #071', 'category'] = 'Health and Vanity'\n",
    "    withdraw.loc[withdraw['recipient'] == 'WINNERS 340', 'category'] = 'Health and Vanity'\n",
    "    withdraw.loc[withdraw['recipient'] == 'UNIQLOMONTREAL EATON CENT', 'category'] = 'Health and Vanity'\n",
    "    withdraw.at[109, 'category'] = 'Health and Vanity'\n",
    "    withdraw.loc[withdraw['recipient'] == 'dhgate.com', 'category'] = 'Health and Vanity'\n",
    "    withdraw.loc[withdraw['recipient'] == 'RESTAURANT BOUSTAN CRESCE', 'category'] = 'Food'\n",
    "    withdraw.loc[withdraw['recipient'] == 'PHARMAPRIX #1957', 'category'] = 'Necessities'\n",
    "    withdraw.at[114, 'category'] = 'Productivity'\n",
    "    withdraw.loc[withdraw['recipient'] == 'GRAND & TOY A0', 'category'] = 'Productivity'\n",
    "    withdraw.loc[withdraw['recipient'] == 'HOT DOG MOBILE    _F', 'category'] = 'Food'\n",
    "    withdraw.at[119, 'category'] = 'Education'\n",
    "    withdraw.at[120, 'category'] = 'Health and Vanity'\n",
    "    withdraw.at[123, 'category'] = 'Productivity'\n",
    "    withdraw.loc[withdraw['recipient'] == 'BIXI MONTREAL', 'category'] = 'Necessities'\n",
    "    withdraw.loc[withdraw['recipient'] == 'STEAM PURCHASE', 'category'] = 'Recreation'\n",
    "    withdraw.at[128, 'category'] = 'Education'\n",
    "    withdraw.loc[withdraw['recipient'] == 'STAPLES.CA', 'category'] = 'Productivity'\n",
    "    withdraw.at[137, 'category'] = 'Productivity'\n",
    "    withdraw.loc[withdraw['recipient'] == 'GOOGLE*DEV47APPS', 'category'] = 'Productivity'\n",
    "    withdraw.loc[withdraw['recipient'] == 'MATCHA ZANMAI', 'category'] = 'Food'\n",
    "    withdraw.at[142, 'category'] = 'Health and Vanity'\n",
    "    withdraw.at[144, 'category'] = 'Health and Vanity'\n",
    "    withdraw.loc[withdraw['recipient'] == 'KITS Kits', 'category'] = 'Health and Vanity'\n",
    "    withdraw.loc[withdraw['recipient'] == 'STM LANGELIER DIN101', 'category'] = 'Necessities'\n",
    "    withdraw.loc[withdraw['recipient'] == 'JEAN COUTU #152', 'category'] = 'Health and Vanity'\n",
    "    withdraw.loc[withdraw['recipient'] == 'DELL CANADA INC (CAD-C', 'category'] = 'Productivity'\n",
    "    withdraw.at[153, 'category'] = 'Health and Vanity'\n",
    "    withdraw.loc[withdraw['recipient'] == 'CHATIME', 'category'] = 'Food'\n",
    "    withdraw.loc[withdraw['recipient'] == 'BEST BUY.CA # 900', 'category'] = 'Investments'\n",
    "    withdraw.loc[withdraw['recipient'] == 'Basha AV DU PARC', 'category'] = 'Food'\n",
    "    withdraw.loc[withdraw['recipient'] == 'ROCKABERRY ST LEONARD', 'category'] = 'Food'\n",
    "    withdraw.loc[withdraw['recipient'] == 'SEPHORA.CA', 'category'] = 'Health and Vanity'\n",
    "    withdraw.at[170, 'category'] = 'Productivity'\n",
    "    withdraw.loc[withdraw['recipient'] == 'GOOGLE*JINPAI', 'category'] = 'Donation'\n",
    "    withdraw.loc[withdraw['recipient'] == 'RESTAURANT DEVI', 'category'] = 'Food'\n",
    "    withdraw.loc[withdraw['recipient'] == 'BOOKDEPOSITORY.COM', 'category'] = 'Education'\n",
    "    withdraw.at[186, 'category'] = 'Health and Vanity'\n",
    "    withdraw.at[188, 'category'] = 'Health and Vanity'\n",
    "    withdraw.loc[withdraw['recipient'] == 'Memory Express', 'category'] = 'Productivity'\n",
    "    withdraw.loc[withdraw['recipient'] == 'PAYPAL *BANGGOOD', 'category'] = 'Material Desires'\n",
    "\n",
    "bin()\n",
    "#This is called each time to help visualize what else is left to be binned.\n",
    "empty = withdraw.loc[withdraw['category'].isna()]\n",
    "empty"
   ]
  },
  {
   "cell_type": "code",
   "execution_count": 4,
   "metadata": {},
   "outputs": [
    {
     "data": {
      "text/plain": [
       "Investments          43\n",
       "Material Desires     31\n",
       "Productivity         30\n",
       "Food                 24\n",
       "Health and Vanity    23\n",
       "Necessities          20\n",
       "Recreation            9\n",
       "Education             8\n",
       "Donation              1\n",
       "Name: category, dtype: int64"
      ]
     },
     "execution_count": 4,
     "metadata": {},
     "output_type": "execute_result"
    }
   ],
   "source": [
    "withdraw.to_csv('./June2020-December2021BinnedSpending.csv')\n",
    "withdraw['category'].value_counts()"
   ]
  }
 ],
 "metadata": {
  "interpreter": {
   "hash": "2c61b18e36d08f58a0ef41bd4058d565c2b9ea079b2bbb1443c3ec7b4bbebf13"
  },
  "kernelspec": {
   "display_name": "Python 3.7.11 64-bit ('Korbit': conda)",
   "language": "python",
   "name": "python3"
  },
  "language_info": {
   "codemirror_mode": {
    "name": "ipython",
    "version": 3
   },
   "file_extension": ".py",
   "mimetype": "text/x-python",
   "name": "python",
   "nbconvert_exporter": "python",
   "pygments_lexer": "ipython3",
   "version": "3.7.11"
  },
  "orig_nbformat": 4
 },
 "nbformat": 4,
 "nbformat_minor": 2
}
