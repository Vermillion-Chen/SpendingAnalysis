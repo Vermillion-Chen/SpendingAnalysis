{
 "cells": [
  {
   "cell_type": "code",
   "execution_count": 1,
   "metadata": {},
   "outputs": [],
   "source": [
    "import pandas as pd\n",
    "import os\n",
    "import numpy as np\n",
    "import re\n",
    "import matplotlib.pyplot as plt\n",
    "import seaborn as sns"
   ]
  },
  {
   "attachments": {},
   "cell_type": "markdown",
   "metadata": {},
   "source": [
    "## Aggregation of Statements and Processing"
   ]
  },
  {
   "cell_type": "code",
   "execution_count": null,
   "metadata": {},
   "outputs": [],
   "source": [
    "accs = [f for f in os.listdir('./') if (os.path.isdir(os.path.join('./', f)) and f != '__pycache__')]\n",
    "\n",
    "for acc in accs:\n",
    "    if acc == \"TD Credit\":\n",
    "        stmts = [stmt for stmt in os.listdir(os.path.join('./', acc))]\n",
    "        agg_stmt = pd.read_csv(''.join(('./', acc, '/', stmts[0])), error_bad_lines=False)\n",
    "        if len(stmts) > 1:\n",
    "            for stmt in stmts[1:]:\n",
    "                temp = pd.read_csv(''.join(('./', acc, '/', stmt)), error_bad_lines=False)\n",
    "                temp.columns = agg_stmt.columns\n",
    "                agg_stmt = agg_stmt.append(temp, ignore_index=True)\n",
    "        agg_stmt.to_csv(''.join(('./', acc, '.csv')), index=False)\n",
    "    else:\n",
    "        stmts = [stmt for stmt in os.listdir(os.path.join('./', acc))]\n",
    "        agg_stmt = pd.read_csv(''.join(('./', acc, '/', stmts[0])), error_bad_lines=False)\n",
    "        if len(stmts) > 1:\n",
    "            for stmt in stmts[1:]:\n",
    "                temp = pd.read_csv(''.join(('./', acc, '/', stmt)), error_bad_lines=False)\n",
    "                agg_stmt = pd.concat([agg_stmt, temp])\n",
    "        agg_stmt.to_csv(''.join(('./', acc, '.csv')), index=False)\n",
    "\n"
   ]
  },
  {
   "cell_type": "code",
   "execution_count": 3,
   "metadata": {},
   "outputs": [],
   "source": [
    "# Process credit cards\n",
    "ct = pd.read_csv('./Canadian Tire.csv')\n",
    "ct[\"Account\"] = \"Canadian Tire Mastercard\"\n",
    "ct[\"AmountIn\"] = np.where(ct[\"AMOUNT\"] < 0, ct[\"AMOUNT\"]*-1, 0)\n",
    "ct[\"AmountOut\"] = np.where(ct[\"AMOUNT\"] >= 0, ct[\"AMOUNT\"], 0)\n",
    "ct = ct.rename(columns={\"TRANSACTION DATE\": \"Date\", \"DESCRIPTION\": \"Description\"})\n",
    "ct[\"Date\"] = pd.to_datetime(ct['Date'])\n",
    "ct = ct[[\"Account\", \"Date\", \"Description\", \"AmountIn\", \"AmountOut\"]]\n",
    "\n",
    "pc = pd.read_csv('./PC Financial.csv')\n",
    "pc[\"Account\"] = \"PC Financial Mastercard\"\n",
    "pc[\"AmountIn\"] = np.where(pc[\"Amount\"] >= 0, pc[\"Amount\"], 0)\n",
    "pc[\"AmountOut\"] = np.where(pc[\"Amount\"] < 0, pc[\"Amount\"]*-1, 0)\n",
    "pc = pc[[\"Account\", \"Date\", \"Description\", \"AmountIn\", \"AmountOut\"]]\n",
    "\n",
    "sfv = pd.read_csv('./Simplii Credit.csv')\n",
    "sfv[\"Account\"] = \"Simplii Financial Visa\"\n",
    "sfv = sfv.rename(columns={\" Transaction Details\": \"Description\", \" Funds Out\": \"AmountOut\", \" Funds In\": \"AmountIn\"})\n",
    "sfv = sfv[[\"Account\", \"Date\", \"Description\", \"AmountIn\", \"AmountOut\"]].fillna(0)\n",
    "\n",
    "tdv = pd.read_csv('./TD Credit.csv')\n",
    "tdv[\"Account\"] = \"TD Visa\"\n",
    "tdv = tdv.rename(columns={\"Debit\": \"AmountOut\", \"Credit\": \"AmountIn\"})\n",
    "tdv = tdv[[\"Account\", \"Date\", \"Description\", \"AmountIn\", \"AmountOut\"]].fillna(0)\n",
    "\n",
    "tgm = pd.read_csv('./Tangerine Credit.csv')\n",
    "tgm[\"Account\"] = \"Tangerine Mastercard\"\n",
    "tgm[\"AmountIn\"] = np.where(tgm[\"Amount\"] >= 0, tgm[\"Amount\"], 0)\n",
    "tgm[\"AmountOut\"] = np.where(tgm[\"Amount\"] < 0, tgm[\"Amount\"]*-1, 0)\n",
    "tgm = tgm.rename(columns={\"Transaction date\": \"Date\", \"Name\": \"Description\"})\n",
    "tgm = tgm[[\"Account\", \"Date\", \"Description\", \"AmountIn\", \"AmountOut\"]].fillna(0)\n",
    "\n",
    "# Process chequing accounts\n",
    "tgc = pd.read_csv('./Tangerine Chequing.csv')\n",
    "tgc[\"Account\"] = \"Tangerine Chequing\"\n",
    "tgc[\"AmountIn\"] = np.where(tgc[\"Amount\"] >= 0, tgc[\"Amount\"], 0)\n",
    "tgc[\"AmountOut\"] = np.where(tgc[\"Amount\"] < 0, tgc[\"Amount\"]*-1, 0)\n",
    "tgc = tgc.rename(columns={\"Name\": \"Description\"})\n",
    "tgc = tgc[[\"Account\", \"Date\", \"Description\", \"AmountIn\", \"AmountOut\"]].fillna(0)\n",
    "\n",
    "tdc = pd.read_csv('./TD Chequing.csv')\n",
    "tdc[\"Account\"] = \"TD Chequing\"\n",
    "tdc = tdc[[\"Account\", \"Date\", \"Description\", \"AmountIn\", \"AmountOut\"]].fillna(0)\n",
    "\n",
    "sfc = pd.read_csv('./Simplii Chequing.csv')\n",
    "sfc[\"Account\"] = \"Simplii Chequing\"\n",
    "sfc = sfc.rename(columns={\" Transaction Details\": \"Description\", \" Funds Out\": \"AmountOut\", \" Funds In \": \"AmountIn\"})\n",
    "sfc = sfc[[\"Account\", \"Date\", \"Description\", \"AmountIn\", \"AmountOut\"]].fillna(0)"
   ]
  },
  {
   "cell_type": "code",
   "execution_count": 4,
   "metadata": {},
   "outputs": [],
   "source": [
    "agg_acc = ct\n",
    "agg_acc = pd.concat([agg_acc, pc, sfv, tdv, tgm, tgc, tdc, sfc])\n",
    "agg_acc[\"Date\"] = pd.to_datetime(agg_acc['Date'])"
   ]
  },
  {
   "attachments": {},
   "cell_type": "markdown",
   "metadata": {},
   "source": [
    "## Binning \n",
    "Previously categorized into Investments, Productivity, Material Desires, Health and Vanity, Necessities, Education, Food, Recreation, and Donations\n",
    "Now\n",
    "Investments\n",
    "Groceries\n",
    "Restaurants\n",
    "Rent & Utilities\n",
    "Education\n",
    "Transfers\n",
    "Health\n",
    "Home & Office"
   ]
  },
  {
   "cell_type": "code",
   "execution_count": null,
   "metadata": {},
   "outputs": [],
   "source": [
    "agg_acc[\"Category\"] = np.nan\n",
    "import imp\n",
    "import bin\n",
    "imp.reload(bin)\n",
    "\n",
    "# Manual Binning\n",
    "\n",
    "binned_agg = bin.bin(agg_acc)\n",
    "\n",
    "final = binned_agg[[\"Category\", \"Date\", \"AmountIn\", \"AmountOut\"]]\n",
    "final.sort_values(by='Date', inplace=True)\n",
    "final.reset_index(drop=True, inplace=True)\n",
    "final.to_excel('./Final.xlsx')\n",
    "#This is called each time to help visualize what else is left to be binned.\n",
    "empty = binned_agg.loc[binned_agg['Category'].isna()]\n",
    "empty['AmountOut'] = empty['AmountOut'].astype('float')\n",
    "empty['AmountIn'] = empty['AmountIn'].astype('float')\n",
    "\n",
    "# empty.nlargest(50, 'AmountOut')\n",
    "# final.loc[final['Category'] == 'Home & Office']\n",
    "# binned_agg.loc[binned_agg['Description'].str.contains('IKEA', case=False)]\n",
    "empty\n"
   ]
  },
  {
   "attachments": {},
   "cell_type": "markdown",
   "metadata": {},
   "source": [
    "## Monthy Income and Outcome Analysis"
   ]
  },
  {
   "cell_type": "code",
   "execution_count": 6,
   "metadata": {},
   "outputs": [
    {
     "data": {
      "image/png": "[encoded data removed]",
      "text/plain": [
       "<Figure size 432x288 with 1 Axes>"
      ]
     },
     "metadata": {
      "needs_background": "light"
     },
     "output_type": "display_data"
    }
   ],
   "source": [
    "ia = binned_agg.copy(True)\n",
    "\n",
    "ia['Date'] = ia['Date'].dt.strftime('%Y-%m')\n",
    "ia = ia[(ia['Category'] != 'Loans') & \n",
    "        (ia['Category'] != 'Investments') & \n",
    "        (ia['Category'] != 'Transfers') &\n",
    "        (ia['Category'] != 'Reimbursements')][['Date', \"AmountIn\", \"AmountOut\"]].groupby('Date').agg('sum')\n",
    "\n",
    "\n",
    "X = ia.index\n",
    "income = ia['AmountIn'].to_numpy()\n",
    "outcome = ia['AmountOut'].to_numpy()\n",
    "  \n",
    "X_axis = np.arange(len(X))\n",
    "fig1, ax = plt.subplots()\n",
    "plt.bar(X_axis - 0.2, income, 0.4, label = 'Income')\n",
    "plt.bar(X_axis + 0.2, outcome, 0.4, label = 'Outcome')\n",
    "  \n",
    "plt.xticks(X_axis, X)\n",
    "plt.xticks(rotation = 45)\n",
    "plt.setp(ax.xaxis.get_majorticklabels(), ha='right')\n",
    "plt.xlabel(\"Date\")\n",
    "plt.ylabel(\"Money\")\n",
    "plt.title(\"Comparison of 18 Months of Income and Outcome From 2022\")\n",
    "plt.legend()\n",
    "plt.show()"
   ]
  }
 ],
 "metadata": {
  "kernelspec": {
   "display_name": "MAIS",
   "language": "python",
   "name": "python3"
  },
  "language_info": {
   "codemirror_mode": {
    "name": "ipython",
    "version": 3
   },
   "file_extension": ".py",
   "mimetype": "text/x-python",
   "name": "python",
   "nbconvert_exporter": "python",
   "pygments_lexer": "ipython3",
   "version": "3.9.7"
  },
  "orig_nbformat": 4
 },
 "nbformat": 4,
 "nbformat_minor": 2
}
