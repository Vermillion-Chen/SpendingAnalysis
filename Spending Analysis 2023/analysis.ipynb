{
 "cells": [
  {
   "cell_type": "code",
   "execution_count": 2,
   "metadata": {},
   "outputs": [],
   "source": [
    "import pandas as pd\n",
    "import os\n",
    "import numpy as np\n",
    "import matplotlib.pyplot as plt\n",
    "import seaborn as sns"
   ]
  },
  {
   "attachments": {},
   "cell_type": "markdown",
   "metadata": {},
   "source": [
    "## Aggregation of Statements and Processing"
   ]
  },
  {
   "cell_type": "code",
   "execution_count": 3,
   "metadata": {},
   "outputs": [
    {
     "name": "stderr",
     "output_type": "stream",
     "text": [
      "c:\\Users\\Victor\\anaconda3\\envs\\MAIS\\lib\\site-packages\\IPython\\core\\interactiveshell.py:3444: FutureWarning: The error_bad_lines argument has been deprecated and will be removed in a future version.\n",
      "\n",
      "\n",
      "  exec(code_obj, self.user_global_ns, self.user_ns)\n"
     ]
    }
   ],
   "source": [
    "accs = [f for f in os.listdir('./') if os.path.isdir(os.path.join('./', f))]\n",
    "\n",
    "for acc in accs:\n",
    "    if acc == \"TD Credit\":\n",
    "        stmts = [stmt for stmt in os.listdir(os.path.join('./', acc))]\n",
    "        agg_stmt = pd.read_csv(''.join(('./', acc, '/', stmts[0])), error_bad_lines=False)\n",
    "        if len(stmts) > 1:\n",
    "            for stmt in stmts[1:]:\n",
    "                temp = pd.read_csv(''.join(('./', acc, '/', stmt)), error_bad_lines=False)\n",
    "                temp.columns = agg_stmt.columns\n",
    "                agg_stmt = agg_stmt.append(temp, ignore_index=True)\n",
    "        agg_stmt.to_csv(''.join(('./', acc, '.csv')), index=False)\n",
    "    else:\n",
    "        stmts = [stmt for stmt in os.listdir(os.path.join('./', acc))]\n",
    "        agg_stmt = pd.read_csv(''.join(('./', acc, '/', stmts[0])), error_bad_lines=False)\n",
    "        if len(stmts) > 1:\n",
    "            for stmt in stmts[1:]:\n",
    "                temp = pd.read_csv(''.join(('./', acc, '/', stmt)), error_bad_lines=False)\n",
    "                agg_stmt = pd.concat([agg_stmt, temp])\n",
    "        agg_stmt.to_csv(''.join(('./', acc, '.csv')), index=False)\n",
    "\n"
   ]
  },
  {
   "cell_type": "code",
   "execution_count": 4,
   "metadata": {},
   "outputs": [],
   "source": [
    "# Process credit cards\n",
    "ct = pd.read_csv('./Canadian Tire.csv')\n",
    "ct[\"Account\"] = \"Canadian Tire Mastercard\"\n",
    "ct[\"AmountIn\"] = np.where(ct[\"AMOUNT\"] >= 0, ct[\"AMOUNT\"], 0)\n",
    "ct[\"AmountOut\"] = np.where(ct[\"AMOUNT\"] < 0, ct[\"AMOUNT\"]*-1, 0)\n",
    "ct = ct.rename(columns={\"TRANSACTION DATE\": \"Date\", \"DESCRIPTION\": \"Description\"})\n",
    "ct[\"Date\"] = pd.to_datetime(ct['Date'])\n",
    "ct = ct[[\"Account\", \"Date\", \"Description\", \"AmountIn\", \"AmountOut\"]]\n",
    "\n",
    "pc = pd.read_csv('./PC Financial.csv')\n",
    "pc[\"Account\"] = \"PC Financial Mastercard\"\n",
    "pc[\"AmountIn\"] = np.where(pc[\"Amount\"] >= 0, pc[\"Amount\"], 0)\n",
    "pc[\"AmountOut\"] = np.where(pc[\"Amount\"] < 0, pc[\"Amount\"]*-1, 0)\n",
    "pc = pc[[\"Account\", \"Date\", \"Description\", \"AmountIn\", \"AmountOut\"]]\n",
    "\n",
    "sfv = pd.read_csv('./Simplii Credit.csv')\n",
    "sfv[\"Account\"] = \"Simplii Financial Visa\"\n",
    "sfv = sfv.rename(columns={\" Transaction Details\": \"Description\", \" Funds Out\": \"AmountOut\", \" Funds In\": \"AmountIn\"})\n",
    "sfv = sfv[[\"Account\", \"Date\", \"Description\", \"AmountIn\", \"AmountOut\"]].fillna(0)\n",
    "\n",
    "tdv = pd.read_csv('./TD Credit.csv')\n",
    "tdv[\"Account\"] = \"TD Visa\"\n",
    "tdv = tdv.rename(columns={\"Debit\": \"AmountOut\", \"Credit\": \"AmountIn\"})\n",
    "tdv = tdv[[\"Account\", \"Date\", \"Description\", \"AmountIn\", \"AmountOut\"]].fillna(0)\n",
    "\n",
    "tgm = pd.read_csv('./Tangerine Credit.csv')\n",
    "tgm[\"Account\"] = \"Tangerine Mastercard\"\n",
    "tgm[\"AmountIn\"] = np.where(tgm[\"Amount\"] >= 0, tgm[\"Amount\"], 0)\n",
    "tgm[\"AmountOut\"] = np.where(tgm[\"Amount\"] < 0, tgm[\"Amount\"]*-1, 0)\n",
    "tgm = tgm.rename(columns={\"Transaction date\": \"Date\", \"Name\": \"Description\"})\n",
    "tgm = tgm[[\"Account\", \"Date\", \"Description\", \"AmountIn\", \"AmountOut\"]].fillna(0)\n",
    "\n",
    "# Process chequing accounts\n",
    "tgc = pd.read_csv('./Tangerine Chequing.csv')\n",
    "tgc[\"Account\"] = \"Tangerine Chequing\"\n",
    "tgc[\"AmountIn\"] = np.where(tgc[\"Amount\"] >= 0, tgc[\"Amount\"], 0)\n",
    "tgc[\"AmountOut\"] = np.where(tgc[\"Amount\"] < 0, tgc[\"Amount\"]*-1, 0)\n",
    "tgc = tgc.rename(columns={\"Name\": \"Description\"})\n",
    "tgc = tgc[[\"Account\", \"Date\", \"Description\", \"AmountIn\", \"AmountOut\"]].fillna(0)\n",
    "\n",
    "tdc = pd.read_csv('./TD Chequing.csv')\n",
    "tdc[\"Account\"] = \"TD Chequing\"\n",
    "tdc = tdc[[\"Account\", \"Date\", \"Description\", \"AmountIn\", \"AmountOut\"]].fillna(0)\n",
    "\n",
    "\n",
    "sfc = pd.read_csv('./Simplii Chequing.csv')\n",
    "sfc[\"Account\"] = \"Simplii Chequing\"\n",
    "sfc = sfc.rename(columns={\" Transaction Details\": \"Description\", \" Funds Out\": \"AmountOut\", \" Funds In \": \"AmountIn\"})\n",
    "sfc = sfc[[\"Account\", \"Date\", \"Description\", \"AmountIn\", \"AmountOut\"]].fillna(0)"
   ]
  },
  {
   "cell_type": "code",
   "execution_count": 5,
   "metadata": {},
   "outputs": [],
   "source": [
    "agg_acc = ct\n",
    "agg_acc = pd.concat([agg_acc, pc, sfv, tdv, tgm, tgc, tdc, sfc])\n",
    "agg_acc[\"Date\"] = pd.to_datetime(agg_acc['Date'])\n"
   ]
  },
  {
   "attachments": {},
   "cell_type": "markdown",
   "metadata": {},
   "source": [
    "## Binning \n",
    "Previously categorized into Investments, Productivity, Material Desires, Health and Vanity, Necessities, Education, Food, Recreation, and Donations\n"
   ]
  },
  {
   "cell_type": "code",
   "execution_count": null,
   "metadata": {},
   "outputs": [],
   "source": [
    "agg_acc[\"Category\"] = np.nan\n",
    "\n",
    "# Manual Binning\n",
    "def bin(findata):\n",
    "    #findata.loc[findata['Description'] == 'COCO TEA          _F', 'Category'] = 'Food'\n",
    "    #findata.loc[findata['Description'] == 'SAVINGS ACC', 'Category'] = 'Investments'\n",
    "    #findata.at[15, 'Category'] = 'Productivity'\n",
    "    #findata.at[47, 'Category'] = 'Productivity'\n",
    "    #findata.at[74, 'Category'] = 'Productivity'\n",
    "    pass\n",
    "\n",
    "\n",
    "bin(agg_acc)\n",
    "#This is called each time to help visualize what else is left to be binned.\n",
    "empty = agg_acc.loc[agg_acc['Category'].isna()]\n",
    "empty"
   ]
  },
  {
   "attachments": {},
   "cell_type": "markdown",
   "metadata": {},
   "source": [
    "## Monthy Income and Outcome Analysis"
   ]
  },
  {
   "cell_type": "code",
   "execution_count": 16,
   "metadata": {},
   "outputs": [
    {
     "name": "stdout",
     "output_type": "stream",
     "text": [
      "         AmountIn  AmountOut\n",
      "Date                        \n",
      "2022-01   4911.02     568.71\n",
      "2022-02   1674.38     631.11\n",
      "2022-03   3406.45    1139.38\n",
      "2022-04   2575.48    3845.43\n",
      "2022-05   6891.49    1511.50\n",
      "         AmountIn  AmountOut\n",
      "Date                        \n",
      "2022-01   4911.02     568.71\n",
      "2022-02   1674.38     631.11\n",
      "2022-03   3406.45    1139.38\n",
      "2022-04   2575.48    3845.43\n",
      "2022-05   6891.49    1511.50\n",
      "2022-06   3874.51    3570.21\n",
      "2022-07   3014.42    3120.66\n",
      "2022-08   5010.34   17696.54\n",
      "2022-09  19502.17    3924.78\n",
      "2022-10   4356.04    4107.33\n",
      "2022-11   2833.29    3125.05\n",
      "2022-12  11893.84    8872.94\n",
      "2023-01  60531.00   53139.18\n",
      "2023-02   7746.56    6330.65\n",
      "2023-03   6337.78    6365.66\n",
      "2023-04  16788.42   11761.00\n",
      "2023-05  18159.63   57040.22\n",
      "2023-06   9623.29    7054.47\n"
     ]
    },
    {
     "data": {
      "image/png": "[encoded data removed]",
      "text/plain": [
       "<Figure size 432x288 with 1 Axes>"
      ]
     },
     "metadata": {
      "needs_background": "light"
     },
     "output_type": "display_data"
    }
   ],
   "source": [
    "ia = agg_acc.copy(True)\n",
    "\n",
    "ia['Date'] = ia['Date'].dt.strftime('%Y-%m')\n",
    "ia = ia[['Date', \"AmountIn\", \"AmountOut\"]].groupby('Date').agg('sum')\n",
    "\n",
    "X = ia.index\n",
    "income = ia['AmountIn'].to_numpy()\n",
    "outcome = ia['AmountOut'].to_numpy()\n",
    "  \n",
    "X_axis = np.arange(len(X))\n",
    "print(ia)\n",
    "plt.bar(X_axis - 0.2, income, 0.4, label = 'Income')\n",
    "plt.bar(X_axis + 0.2, outcome, 0.4, label = 'Outcome')\n",
    "  \n",
    "plt.xticks(X_axis, X)\n",
    "plt.xlabel(\"Date\")\n",
    "plt.ylabel(\"Money\")\n",
    "plt.title(\"Comparison of 18 Months of Income and Outcome From 2022\")\n",
    "plt.legend()\n",
    "plt.show()"
   ]
  }
 ],
 "metadata": {
  "kernelspec": {
   "display_name": "MAIS",
   "language": "python",
   "name": "python3"
  },
  "language_info": {
   "codemirror_mode": {
    "name": "ipython",
    "version": 3
   },
   "file_extension": ".py",
   "mimetype": "text/x-python",
   "name": "python",
   "nbconvert_exporter": "python",
   "pygments_lexer": "ipython3",
   "version": "3.9.7"
  },
  "orig_nbformat": 4
 },
 "nbformat": 4,
 "nbformat_minor": 2
}
